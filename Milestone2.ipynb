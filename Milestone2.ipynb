{
  "nbformat": 4,
  "nbformat_minor": 0,
  "metadata": {
    "colab": {
      "provenance": []
    },
    "kernelspec": {
      "name": "python3",
      "display_name": "Python 3"
    },
    "language_info": {
      "name": "python"
    }
  },
  "cells": [
    {
      "cell_type": "markdown",
      "source": [
        "# CSE151A Group Project Milestone 2"
      ],
      "metadata": {
        "id": "dontIlukeCb_"
      }
    },
    {
      "cell_type": "code",
      "source": [
        "!git clone git@github.com:gamroyan/cse151a-group-project.git"
      ],
      "metadata": {
        "colab": {
          "base_uri": "https://localhost:8080/"
        },
        "id": "kKuKah0u40dq",
        "outputId": "b8b93c88-b515-4372-ebad-40d71582ce94"
      },
      "execution_count": 8,
      "outputs": [
        {
          "output_type": "stream",
          "name": "stdout",
          "text": [
            "Cloning into 'cse151a-group-project'...\n",
            "Host key verification failed.\r\n",
            "fatal: Could not read from remote repository.\n",
            "\n",
            "Please make sure you have the correct access rights\n",
            "and the repository exists.\n"
          ]
        }
      ]
    },
    {
      "cell_type": "markdown",
      "source": [
        "## Data Exploration"
      ],
      "metadata": {
        "id": "2q5vcHBQeKvL"
      }
    },
    {
      "cell_type": "code",
      "source": [
        "from datasets import load_dataset\n",
        "import pandas as pd\n",
        "\n",
        "X = load_dataset(\"wykonos/movies\")\n",
        "\n",
        "print(X.shape)\n",
        "\n",
        "print(X['train'].features.keys())"
      ],
      "metadata": {
        "colab": {
          "base_uri": "https://localhost:8080/"
        },
        "id": "zDjh91WHeW4d",
        "outputId": "13d40f0c-7442-4655-e05b-6025a93f388b"
      },
      "execution_count": 7,
      "outputs": [
        {
          "output_type": "stream",
          "name": "stdout",
          "text": [
            "{'train': (722796, 20)}\n",
            "dict_keys(['id', 'title', 'genres', 'original_language', 'overview', 'popularity', 'production_companies', 'release_date', 'budget', 'revenue', 'runtime', 'status', 'tagline', 'vote_average', 'vote_count', 'credits', 'keywords', 'poster_path', 'backdrop_path', 'recommendations'])\n"
          ]
        }
      ]
    },
    {
      "cell_type": "markdown",
      "source": [
        "1. **How many observations does your dataset have?**\n",
        "\n",
        "  - Our dataset has 722796 observations\n",
        "\n",
        "2. **Describe all columns in your dataset their scales and data distributions. Describe the categorical and continuous variables in your dataset. Describe your target column and if you are using images plot some example classes of the images.**\n",
        "\n",
        "  - Id - Unique ID for each movie\n",
        "  - Title - Title of movie in observation\n",
        "  - Genres - Genre of the movie in the observation\n",
        "    - Categorical\n",
        "  - Original language - The language that the movie is in\n",
        "    - Categorical\n",
        "  - Overview - Description of what the movie is about\n",
        "  - Popularity - A scale of how popular a movie was based on votes and views\n",
        "    - Continuous\n",
        "    - Range from 0 - 6.68k\n",
        "  - Production Companies - Company who made the film\n",
        "  - Release Date - When the movie was released\n",
        "  - Budget - Budget of the film in USD\n",
        "    - Continuous\n",
        "  - Revenue - How much money the film made\n",
        "    - Continuous\n",
        "  - Runtime - Length of the movie in minutes\n",
        "    - Continuous\n",
        "  - Status - Has the movie been released, cancelled, unreleased\n",
        "    - Categorical\n",
        "  - Tagline - Movie tagline\n",
        "  - Vote average - Average public voting of the film\n",
        "    - Scaled from 1-10\n",
        "    - Continuous\n",
        "  - Vote count - Hoe many votes were counted\n",
        "    - Continuous\n",
        "    - 0 - 33k\n",
        "  - Credits - Actors in the movie\n",
        "  - Keywords - Words used to categorize the movie\n",
        "  - Poster path - link to poster\n",
        "  - Backdrop path - link to backdrop\n",
        "\n",
        "3. **Do you have missing and duplicate values in your dataset?**\n",
        "\n",
        "  - Yes, there are missing values that have either a 0 or null in every category"
      ],
      "metadata": {
        "id": "ADk_DZ5zeQsL"
      }
    },
    {
      "cell_type": "markdown",
      "source": [
        "**"
      ],
      "metadata": {
        "id": "G8GAZ4Ce4ilA"
      }
    }
  ]
}